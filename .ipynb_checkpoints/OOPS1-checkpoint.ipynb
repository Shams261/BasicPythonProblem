{
 "cells": [
  {
   "cell_type": "markdown",
   "id": "73262873-9217-4fdb-b5ef-5eb20f7f19e4",
   "metadata": {},
   "source": [
    "## OOPS INTRODUCTION"
   ]
  },
  {
   "cell_type": "markdown",
   "id": "4393e2a3-bddb-4d34-801b-f254aa647548",
   "metadata": {},
   "source": [
    "# Implementing the ATM functionality using the oops"
   ]
  },
  {
   "cell_type": "code",
   "execution_count": 11,
   "id": "e7db4b1f-77ab-44d1-972d-affc05838104",
   "metadata": {},
   "outputs": [],
   "source": [
    "class ATM:\n",
    "    \n",
    "    #constructor \n",
    "    def __init__(self):\n",
    "        self.pin =' '\n",
    "        self.balance = 0\n",
    "        self.menu()\n",
    "\n",
    "\n",
    "    def menu(self):\n",
    "        user_input = input(\"\"\" \n",
    "        Hey there!How can i help you\n",
    "        1.Press 1 to generate a pin\n",
    "        2.Press 2 to change the pin\n",
    "        3.Press 3 to check the balance\n",
    "        4.Press 4 to Withdraw the balance\n",
    "        5.Press 5 to Exit \n",
    "        \"\"\")\n",
    "\n",
    "        if user_input == '1':\n",
    "            #create pin\n",
    "            self.create_pin()\n",
    "            pass\n",
    "        elif user_input == '2':\n",
    "            #change pin\n",
    "            self.change_pin()\n",
    "            pass\n",
    "        elif user_input == '3':\n",
    "            #check the balance\n",
    "            self.check_balance()\n",
    "        elif user_input == '4':\n",
    "            #withdraw the balance\n",
    "            pass\n",
    "        else:\n",
    "            exit()\n",
    "            \n",
    "\n",
    "    def create_pin(self):\n",
    "        user_pin = input(\"Enter the pin you want:\")\n",
    "        self.pin = user_pin\n",
    "        \n",
    "        user_balance = (input(\"Enter the balance:\"))\n",
    "        self.balance = user_balance\n",
    "\n",
    "        print(\"Pin generated successfully\")\n",
    "        self.menu()\n",
    "\n",
    "    \n",
    "\n",
    "    def change_pin(self):\n",
    "        old_pin = input(\"Enter the old pin:\")\n",
    "\n",
    "        if old_pin == self.pin:\n",
    "            #let him change the pin\n",
    "            new_pin=input(\"Enter the new pin:\")\n",
    "            self.pin = new_pin\n",
    "            print(\"Pin Changed successfully\")\n",
    "            self.menu()\n",
    "        else:\n",
    "            print(\"Please enter the old pin to change the pin\")\n",
    "            self.menu()\n",
    "\n",
    "\n",
    "    def check_balance(self):\n",
    "        user_pin=input(\"Enter your pin\")\n",
    "        if user_pin == self.pin:\n",
    "            print(\"your balance is\", self.balance)\n",
    "            self.menu()\n",
    "        else:\n",
    "            print(\"Please enter the correct pin to see your balance.\")\n",
    "            self.menu()\n"
   ]
  },
  {
   "cell_type": "code",
   "execution_count": 12,
   "id": "9b60305c-e930-467f-8591-8e8b9748a286",
   "metadata": {},
   "outputs": [
    {
     "name": "stdin",
     "output_type": "stream",
     "text": [
      " \n",
      "        Hey there!How can i help you\n",
      "        1.Press 1 to generate a pin\n",
      "        2.Press 2 to change the pin\n",
      "        3.Press 3 to check the balance\n",
      "        4.Press 4 to Withdraw the balance\n",
      "        5.Press 5 to Exit \n",
      "         1\n",
      "Enter the pin you want: 1234\n",
      "Enter the balance: 1250\n"
     ]
    },
    {
     "name": "stdout",
     "output_type": "stream",
     "text": [
      "Pin generated successfully\n"
     ]
    },
    {
     "name": "stdin",
     "output_type": "stream",
     "text": [
      " \n",
      "        Hey there!How can i help you\n",
      "        1.Press 1 to generate a pin\n",
      "        2.Press 2 to change the pin\n",
      "        3.Press 3 to check the balance\n",
      "        4.Press 4 to Withdraw the balance\n",
      "        5.Press 5 to Exit \n",
      "         3\n",
      "Enter your pin 1234\n"
     ]
    },
    {
     "name": "stdout",
     "output_type": "stream",
     "text": [
      "your balance is 1250\n"
     ]
    }
   ],
   "source": [
    "obj = ATM()"
   ]
  },
  {
   "cell_type": "code",
   "execution_count": null,
   "id": "a7bf3bea-e3e6-4780-b3e0-5e5d0abd6b8b",
   "metadata": {},
   "outputs": [],
   "source": []
  }
 ],
 "metadata": {
  "kernelspec": {
   "display_name": "Python 3 (ipykernel)",
   "language": "python",
   "name": "python3"
  },
  "language_info": {
   "codemirror_mode": {
    "name": "ipython",
    "version": 3
   },
   "file_extension": ".py",
   "mimetype": "text/x-python",
   "name": "python",
   "nbconvert_exporter": "python",
   "pygments_lexer": "ipython3",
   "version": "3.10.12"
  }
 },
 "nbformat": 4,
 "nbformat_minor": 5
}
