{
  "nbformat": 4,
  "nbformat_minor": 0,
  "metadata": {
    "colab": {
      "provenance": []
    },
    "kernelspec": {
      "name": "python3",
      "display_name": "Python 3"
    },
    "language_info": {
      "name": "python"
    }
  },
  "cells": [
    {
      "cell_type": "markdown",
      "source": [
        "# PYTHON BASICS QUESTION"
      ],
      "metadata": {
        "id": "ro_7Wu2YuVRv"
      }
    },
    {
      "cell_type": "code",
      "source": [
        "# write a code which can convert the given string [\"Data\" \"Science\" \"Mentorship\" \"Program\" \"By\" \"CampusX\"] in the format of \"Data-Science-Mentorship-Program-started-By-CampusX\"\n",
        "\n",
        "print(\"Data\",\"Science\",\"Mentorship\",\"Program\",\"By\",\"CampusX\",sep=\"-\")\n"
      ],
      "metadata": {
        "colab": {
          "base_uri": "https://localhost:8080/"
        },
        "id": "-RanESRzucTs",
        "outputId": "95dbcc12-2b24-4e17-d8ee-e3507328b227"
      },
      "execution_count": 14,
      "outputs": [
        {
          "output_type": "stream",
          "name": "stdout",
          "text": [
            "Data-Science-Mentorship-Program-By-CampusX\n"
          ]
        }
      ]
    },
    {
      "cell_type": "code",
      "source": [
        "# Write a program that will convert celsius value to fahrenheit.\n",
        "\n",
        "# Taking the input from the user in terms of celcius\n",
        "C=float(input(\"Enter the number you want to convert into fah:\"))\n",
        "\n",
        "#Converting the the input from celcius to fahrenheit\n",
        "F=(C*9/5)+32\n",
        "\n",
        "#printing the result\n",
        "print(F)"
      ],
      "metadata": {
        "colab": {
          "base_uri": "https://localhost:8080/"
        },
        "id": "Db6rHrLkxV_V",
        "outputId": "9309feaa-74be-4ca6-804b-d8e02f0909f6"
      },
      "execution_count": 23,
      "outputs": [
        {
          "output_type": "stream",
          "name": "stdout",
          "text": [
            "Enter the number you want to convert into fah:30\n",
            "86.0\n"
          ]
        }
      ]
    },
    {
      "cell_type": "code",
      "source": [
        "# Take 2 numbers as input from the user.Write a program to swap the numbers without using any special python syntax.\n",
        "\n",
        "# METHOD 1 BY TAKING THE THIRD VARIABLE\n",
        "\n",
        "#first we are taking the user input\n",
        "num1=float(input(\"Enter the first number:\"))\n",
        "num2=float(input(\"Enter the seceond number:\"))\n",
        "\n",
        "#storing the first number into the temp variable\n",
        "temp=num1\n",
        "\n",
        "#assigning the value of number2 in number1\n",
        "num1=num2\n",
        "\n",
        "#in this last step we are just taking out the our first numb value from the temp variable and assigning into the num2\n",
        "num2=temp\n",
        "print(\"After swapping the number:\",num1,num2)"
      ],
      "metadata": {
        "colab": {
          "base_uri": "https://localhost:8080/"
        },
        "id": "pSs_JxUCy6Xy",
        "outputId": "bd89d894-6d5c-4d27-dcfd-531b94301a05"
      },
      "execution_count": 34,
      "outputs": [
        {
          "output_type": "stream",
          "name": "stdout",
          "text": [
            "Enter the first number:1\n",
            "Enter the seceond number:2\n",
            "After swapping the number: 2 1\n"
          ]
        }
      ]
    },
    {
      "cell_type": "code",
      "source": [
        "# Take 2 numbers as input from the user.Write a program to swap the numbers without using any special python syntax.\n",
        "\n",
        "# METHOD2 IN THIS METHOD I AM NOT TAKING ANY OTHER VRIABLE OR ANY TUPLE UNPACKING\n",
        "\n",
        "##first we are taking the user input\n",
        "num1=float(input(\"Enter the first number:\"))\n",
        "num2=float(input(\"Enter the seceond number:\"))\n",
        "\n",
        "# Swapping the numbers without using special syntax\n",
        "num1 = num1 + num2\n",
        "num2 = num1 - num2\n",
        "num1 = num1 - num2\n",
        "\n",
        "#printing the number after swapping\n",
        "print(f\"After swapping the number:\\nnum1:{num1}\\nnum2:{num2}\")"
      ],
      "metadata": {
        "colab": {
          "base_uri": "https://localhost:8080/"
        },
        "id": "lI_vCyIw5FmG",
        "outputId": "3f5b6553-158a-451c-82ff-8c5d35c8a2c8"
      },
      "execution_count": 35,
      "outputs": [
        {
          "output_type": "stream",
          "name": "stdout",
          "text": [
            "Enter the first number:10\n",
            "Enter the seceond number:20\n",
            "After swapping the number:\n",
            "num1:20.0\n",
            "num2:10.0\n"
          ]
        }
      ]
    }
  ]
}