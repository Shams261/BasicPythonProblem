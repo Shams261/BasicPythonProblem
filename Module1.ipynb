{
  "nbformat": 4,
  "nbformat_minor": 0,
  "metadata": {
    "colab": {
      "provenance": []
    },
    "kernelspec": {
      "name": "python3",
      "display_name": "Python 3"
    },
    "language_info": {
      "name": "python"
    }
  },
  "cells": [
    {
      "cell_type": "markdown",
      "source": [
        "# PYTHON BASICS QUESTION"
      ],
      "metadata": {
        "id": "ro_7Wu2YuVRv"
      }
    },
    {
      "cell_type": "code",
      "source": [
        "# write a code which can convert the given string [\"Data\" \"Science\" \"Mentorship\" \"Program\" \"By\" \"CampusX\"] in the format of \"Data-Science-Mentorship-Program-started-By-CampusX\"\n",
        "\n",
        "print(\"Data\",\"Science\",\"Mentorship\",\"Program\",\"By\",\"CampusX\",sep=\"-\")\n"
      ],
      "metadata": {
        "colab": {
          "base_uri": "https://localhost:8080/"
        },
        "id": "-RanESRzucTs",
        "outputId": "95dbcc12-2b24-4e17-d8ee-e3507328b227"
      },
      "execution_count": null,
      "outputs": [
        {
          "output_type": "stream",
          "name": "stdout",
          "text": [
            "Data-Science-Mentorship-Program-By-CampusX\n"
          ]
        }
      ]
    },
    {
      "cell_type": "code",
      "source": [
        "# Write a program that will convert celsius value to fahrenheit.\n",
        "\n",
        "# Taking the input from the user in terms of celcius\n",
        "C=float(input(\"Enter the number you want to convert into fah:\"))\n",
        "\n",
        "#Converting the the input from celcius to fahrenheit\n",
        "F=(C*9/5)+32\n",
        "\n",
        "#printing the result\n",
        "print(F)"
      ],
      "metadata": {
        "colab": {
          "base_uri": "https://localhost:8080/"
        },
        "id": "Db6rHrLkxV_V",
        "outputId": "9309feaa-74be-4ca6-804b-d8e02f0909f6"
      },
      "execution_count": null,
      "outputs": [
        {
          "output_type": "stream",
          "name": "stdout",
          "text": [
            "Enter the number you want to convert into fah:30\n",
            "86.0\n"
          ]
        }
      ]
    },
    {
      "cell_type": "code",
      "source": [
        "# Take 2 numbers as input from the user.Write a program to swap the numbers without using any special python syntax.\n",
        "\n",
        "# METHOD 1 BY TAKING THE THIRD VARIABLE\n",
        "\n",
        "#first we are taking the user input\n",
        "num1=float(input(\"Enter the first number:\"))\n",
        "num2=float(input(\"Enter the seceond number:\"))\n",
        "\n",
        "#storing the first number into the temp variable\n",
        "temp=num1\n",
        "\n",
        "#assigning the value of number2 in number1\n",
        "num1=num2\n",
        "\n",
        "#in this last step we are just taking out the our first numb value from the temp variable and assigning into the num2\n",
        "num2=temp\n",
        "print(\"After swapping the number:\",num1,num2)"
      ],
      "metadata": {
        "colab": {
          "base_uri": "https://localhost:8080/"
        },
        "id": "pSs_JxUCy6Xy",
        "outputId": "bd89d894-6d5c-4d27-dcfd-531b94301a05"
      },
      "execution_count": null,
      "outputs": [
        {
          "output_type": "stream",
          "name": "stdout",
          "text": [
            "Enter the first number:1\n",
            "Enter the seceond number:2\n",
            "After swapping the number: 2 1\n"
          ]
        }
      ]
    },
    {
      "cell_type": "code",
      "source": [
        "# Take 2 numbers as input from the user.Write a program to swap the numbers without using any special python syntax.\n",
        "\n",
        "# METHOD2 IN THIS METHOD I AM NOT TAKING ANY OTHER VRIABLE OR ANY TUPLE UNPACKING\n",
        "\n",
        "##first we are taking the user input\n",
        "num1=float(input(\"Enter the first number:\"))\n",
        "num2=float(input(\"Enter the seceond number:\"))\n",
        "\n",
        "# Swapping the numbers without using special syntax\n",
        "num1 = num1 + num2\n",
        "num2 = num1 - num2\n",
        "num1 = num1 - num2\n",
        "\n",
        "#printing the number after swapping\n",
        "print(f\"After swapping the number:\\nnum1:{num1}\\nnum2:{num2}\")"
      ],
      "metadata": {
        "colab": {
          "base_uri": "https://localhost:8080/"
        },
        "id": "lI_vCyIw5FmG",
        "outputId": "3f5b6553-158a-451c-82ff-8c5d35c8a2c8"
      },
      "execution_count": null,
      "outputs": [
        {
          "output_type": "stream",
          "name": "stdout",
          "text": [
            "Enter the first number:10\n",
            "Enter the seceond number:20\n",
            "After swapping the number:\n",
            "num1:20.0\n",
            "num2:10.0\n"
          ]
        }
      ]
    },
    {
      "cell_type": "code",
      "source": [
        "#  Write a program to find the euclidean distance between two coordinates.Take both the coordinates from the user as input.\n",
        "\n",
        "# importing the math liabraries\n",
        "import math\n",
        "\n",
        "#taking the user input\n",
        "x1=float(input(\"Enter the first x coordinate:\"))\n",
        "x2=float(input(\"Enter the second x coordinate:\"))\n",
        "y1=float(input(\"Enter the first y coordinate:\"))\n",
        "y2=float(input(\"Enter the second y coordinate:\"))\n",
        "\n",
        "#calculating  the eucledian diatance\n",
        "res=math.sqrt(x2-x1)**2+(y2-y1)**2\n",
        "\n",
        "#printing the result\n",
        "print(res)"
      ],
      "metadata": {
        "colab": {
          "base_uri": "https://localhost:8080/"
        },
        "id": "qtyXlc13145N",
        "outputId": "a8d11551-6a3e-48a7-a024-3d2078079172"
      },
      "execution_count": null,
      "outputs": [
        {
          "output_type": "stream",
          "name": "stdout",
          "text": [
            "Enter the first x coordinate:10\n",
            "Enter the second x coordinate:20\n",
            "Enter the first y coordinate:5\n",
            "Enter the second y coordinate:6\n",
            "11.000000000000002\n"
          ]
        }
      ]
    },
    {
      "cell_type": "code",
      "source": [
        "# Write a program to find the simple interest when the value of principle,rate of interest and time period is provided by the user.\n",
        "\n",
        "#taking the user input\n",
        "pamount=float(input(\"Enter the principle amount:\"))\n",
        "rinterest=float(input(\"Enter the rate of interest:\"))\n",
        "timee=float(input(\"Enter the period of time:\"))\n",
        "\n",
        "#calculating the simple interest\n",
        "res = (pamount*rinterest*timee)/100\n",
        "\n",
        "#display the result\n",
        "print(res)"
      ],
      "metadata": {
        "colab": {
          "base_uri": "https://localhost:8080/"
        },
        "id": "XypfVuOY5GVm",
        "outputId": "5da2dc6d-5751-426a-fb8a-4082c195c57e"
      },
      "execution_count": null,
      "outputs": [
        {
          "output_type": "stream",
          "name": "stdout",
          "text": [
            "Enter the principle amount:1000\n",
            "Enter the rate of interest:5\n",
            "Enter the period of time:1\n",
            "50.0\n"
          ]
        }
      ]
    },
    {
      "cell_type": "code",
      "source": [
        "## Write a program that will tell the number of dogs and chicken are there when the user will provide the value of total heads and legs.For example: Input: heads -> 4 legs -> 12\n",
        "# Output: dogs -> 2 chicken -> 2\n",
        "\n",
        "#taking the user input\n",
        "heads = int(input(\"Enter the number of head:\"))\n",
        "legs = int(input(\"Enter the number of legs:\"))\n",
        "\n",
        "# Solving the system of equations using a loop\n",
        "for dogs in range(heads + 1):\n",
        "    chickens = heads - dogs\n",
        "    if (4 * dogs + 2 * chickens) == legs:\n",
        "        # Display the result and break out of the loop if a solution is found\n",
        "        print(f\"\\nThe number of dogs is: {dogs}\\nThe number of chickens is: {chickens}\")\n",
        "        break\n",
        "else:\n",
        "    # The else block is executed if the loop completes without finding a solution\n",
        "    print(\"No valid solution found for the given inputs.\")"
      ],
      "metadata": {
        "id": "XPcUKEls6vMn",
        "colab": {
          "base_uri": "https://localhost:8080/"
        },
        "outputId": "d2fcd0d7-ed35-44aa-f557-4815e4b309a5"
      },
      "execution_count": 2,
      "outputs": [
        {
          "output_type": "stream",
          "name": "stdout",
          "text": [
            "Enter the number of head:4\n",
            "Enter the number of legs:12\n",
            "\n",
            "The number of dogs is: 2\n",
            "The number of chickens is: 2\n"
          ]
        }
      ]
    },
    {
      "cell_type": "code",
      "source": [
        "## Write a program to find the sum of squares of first n natural numbers where n will be provided by the user.\n",
        "\n",
        "# Input from the user\n",
        "x=int(input(\"Enter the first n natural number:\"))\n",
        "\n",
        "# Initialize sum_of_squares to zero\n",
        "sum_of_square=0\n",
        "\n",
        "\n",
        "# Loop through the range of numbers from 1 to n (inclusive)\n",
        "for i in range (1,x+1):\n",
        "   # Calculate the square of each number and add it to sum_of_squares\n",
        "  sum_i = i**2\n",
        "  sum_of_square=sum_of_square+sum_i\n",
        "\n",
        "\n",
        "# Display the result\n",
        "print(sum_of_square)"
      ],
      "metadata": {
        "colab": {
          "base_uri": "https://localhost:8080/"
        },
        "id": "do-d5o9XKF0p",
        "outputId": "fc87b676-1ca4-458c-a846-33c2b63c82ef"
      },
      "execution_count": 10,
      "outputs": [
        {
          "output_type": "stream",
          "name": "stdout",
          "text": [
            "Enter the first n natural number:5\n",
            "55\n"
          ]
        }
      ]
    },
    {
      "cell_type": "code",
      "source": [
        " # Given the first 2 terms of an Arithmetic Series.Find the Nth term of the series. Assume all inputs are provided by the user.\n",
        " # Input from the user\n",
        "a1 = float(input(\"Enter the first term (a1) of the arithmetic series: \"))\n",
        "a2 = float(input(\"Enter the second term (a2) of the arithmetic series: \"))\n",
        "n = int(input(\"Enter the position (n) of the term you want to find: \"))\n",
        "\n",
        "# Calculate the common difference\n",
        "d = a2 - a1\n",
        "\n",
        "# Calculate the Nth term using the formula\n",
        "an = a1 + (n - 1) * d\n",
        "\n",
        "# Display the result\n",
        "print(f\"The {n}th term in the arithmetic series is: {an}\")\n"
      ],
      "metadata": {
        "colab": {
          "base_uri": "https://localhost:8080/"
        },
        "id": "RHKUkdEeS_8D",
        "outputId": "484d3227-db80-4c76-f4a3-1fe5a6a8418f"
      },
      "execution_count": 11,
      "outputs": [
        {
          "output_type": "stream",
          "name": "stdout",
          "text": [
            "Enter the first term (a1) of the arithmetic series: 2\n",
            "Enter the second term (a2) of the arithmetic series: 1\n",
            "Enter the position (n) of the term you want to find: 5\n",
            "The 5th term in the arithmetic series is: -2.0\n"
          ]
        }
      ]
    },
    {
      "cell_type": "code",
      "source": [
        "# Given 2 fractions, find the sum of those 2 fractions.Take the numerator and denominator values of the fractions from the user.\n",
        "\n",
        "# Function to find the greatest common divisor (GCD)\n",
        "def gcd(a, b):\n",
        "    while b:\n",
        "        a, b = b, a % b\n",
        "    return a\n",
        "\n",
        "# Function to find the least common multiple (LCM)\n",
        "def lcm(a, b):\n",
        "    return abs(a * b) // gcd(a, b)\n",
        "\n",
        "# Input from the user for the first fraction\n",
        "numerator1 = int(input(\"Enter the numerator of the first fraction: \"))\n",
        "denominator1 = int(input(\"Enter the denominator of the first fraction: \"))\n",
        "\n",
        "# Input from the user for the second fraction\n",
        "numerator2 = int(input(\"Enter the numerator of the second fraction: \"))\n",
        "denominator2 = int(input(\"Enter the denominator of the second fraction: \"))\n",
        "\n",
        "# Calculate the common denominator\n",
        "common_denominator = lcm(denominator1, denominator2)\n",
        "\n",
        "# Calculate the sum of the fractions\n",
        "sum_numerator = (numerator1 * common_denominator // denominator1) + (numerator2 * common_denominator // denominator2)\n",
        "\n",
        "# Display the result\n",
        "print(f\"The sum of {numerator1}/{denominator1} and {numerator2}/{denominator2} is: {sum_numerator}/{common_denominator}\")\n"
      ],
      "metadata": {
        "colab": {
          "base_uri": "https://localhost:8080/"
        },
        "id": "enfQSG9tTz5g",
        "outputId": "10a35e2f-080a-4401-ebf9-42abbd83a10c"
      },
      "execution_count": 12,
      "outputs": [
        {
          "output_type": "stream",
          "name": "stdout",
          "text": [
            "Enter the numerator of the first fraction: 1\n",
            "Enter the denominator of the first fraction: 5\n",
            "Enter the numerator of the second fraction: 4\n",
            "Enter the denominator of the second fraction: 6\n",
            "The sum of 1/5 and 4/6 is: 26/30\n"
          ]
        }
      ]
    },
    {
      "cell_type": "code",
      "source": [
        "#Given the height, width and breadth of a milk tank, you have to find out how many glasses of milk can be obtained? Assume all the inputs are provided by the user.\n",
        "#Input:\n",
        "#Dimensions of the milk tank\n",
        "#H = 20cm, L = 20cm, B = 20cm\n",
        "#Dimensions of the glass\n",
        "#h = 3cm, r = 1cm\n",
        "\n",
        "import math\n",
        "\n",
        "# Input from the user for milk tank dimensions\n",
        "H_tank = float(input(\"Enter the height of the milk tank (in cm): \"))\n",
        "L_tank = float(input(\"Enter the length of the milk tank (in cm): \"))\n",
        "B_tank = float(input(\"Enter the breadth of the milk tank (in cm): \"))\n",
        "\n",
        "# Input from the user for glass dimensions\n",
        "h_glass = float(input(\"Enter the height of the glass (in cm): \"))\n",
        "r_glass = float(input(\"Enter the radius of the glass (in cm): \"))\n",
        "\n",
        "# Calculate the volume of the milk tank\n",
        "V_tank = math.pi * (r_glass ** 2) * H_tank\n",
        "\n",
        "# Calculate the volume of an individual glass\n",
        "V_glass = (1/3) * math.pi * (r_glass ** 2) * h_glass\n",
        "\n",
        "# Calculate the number of glasses that can be obtained\n",
        "num_glasses = V_tank / V_glass\n",
        "\n",
        "# Display the result\n",
        "print(f\"The number of glasses of milk that can be obtained is: {int(num_glasses)}\")\n"
      ],
      "metadata": {
        "colab": {
          "base_uri": "https://localhost:8080/"
        },
        "id": "e9S2i2b0UaHo",
        "outputId": "1d2b6ca8-7a89-4594-fefb-a69d75545d4e"
      },
      "execution_count": 13,
      "outputs": [
        {
          "output_type": "stream",
          "name": "stdout",
          "text": [
            "Enter the height of the milk tank (in cm): 20\n",
            "Enter the length of the milk tank (in cm): 20\n",
            "Enter the breadth of the milk tank (in cm): 20\n",
            "Enter the height of the glass (in cm): 3\n",
            "Enter the radius of the glass (in cm): 1\n",
            "The number of glasses of milk that can be obtained is: 20\n"
          ]
        }
      ]
    }
  ]
}