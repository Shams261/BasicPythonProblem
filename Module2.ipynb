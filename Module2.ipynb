{
  "nbformat": 4,
  "nbformat_minor": 0,
  "metadata": {
    "colab": {
      "provenance": []
    },
    "kernelspec": {
      "name": "python3",
      "display_name": "Python 3"
    },
    "language_info": {
      "name": "python"
    }
  },
  "cells": [
    {
      "cell_type": "code",
      "execution_count": 34,
      "metadata": {
        "colab": {
          "base_uri": "https://localhost:8080/"
        },
        "id": "OT_1rQ8GYFyY",
        "outputId": "5bdb5a31-89f3-4204-9196-d3947dbaca4b"
      },
      "outputs": [
        {
          "output_type": "stream",
          "name": "stdout",
          "text": [
            "Enter the amount of salary:50000\n",
            "After deducting all the taxes the income per month is 2391.67 lakhs\n"
          ]
        }
      ],
      "source": [
        "#Write a program that will give you in hand monthly salary after deduction on CTC - HRA(10%), DA(5%), PF(3%) and taxes deduction as below:\n",
        "#Salary(Lakhs) : Tax(%)\n",
        "#Below 5 : 0%\n",
        "#5-10 : 10%\n",
        "#10-20 : 20%\n",
        "#aboove 20 : 30%\n",
        "\n",
        "#taking the ctc amount from the user\n",
        "salary=float(input(\"Enter the amount of salary:\"))\n",
        "\n",
        "#deducting the percentage from the ctc\n",
        "HRA_deduction=(10/100)*salary\n",
        "da_deduction=(5/100)*salary\n",
        "pf_deduction=(3/100)*salary\n",
        "\n",
        "#after deducting\n",
        "taxable_income=(salary-HRA_deduction-da_deduction-pf_deduction)\n",
        "\n",
        "#finding the applicable tax\n",
        "if 0<salary<= 5:\n",
        "  tax_rate=0\n",
        "\n",
        "elif 500000<salary<=10:\n",
        "  tax_rate=10\n",
        "\n",
        "elif 1000000<salary<=20:\n",
        "  tax_rate=20\n",
        "\n",
        "else:\n",
        "  tax_rate=30\n",
        "\n",
        "# Calculating tax\n",
        "tax= (taxable_income * tax_rate) / 100\n",
        "\n",
        "# Calculating final salary after deductions and taxes\n",
        "final_salary= salary-HRA_deduction-da_deduction-pf_deduction - tax\n",
        "\n",
        "# Monthly salary\n",
        "monthly_salary=final_salary/12\n",
        "\n",
        "\n",
        "# Display result\n",
        "print(f\"After deducting all the taxes the income per month is {monthly_salary:.2f} lakhs\")\n"
      ]
    }
  ]
}