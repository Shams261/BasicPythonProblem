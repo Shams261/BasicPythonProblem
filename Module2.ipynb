{
  "nbformat": 4,
  "nbformat_minor": 0,
  "metadata": {
    "colab": {
      "provenance": []
    },
    "kernelspec": {
      "name": "python3",
      "display_name": "Python 3"
    },
    "language_info": {
      "name": "python"
    }
  },
  "cells": [
    {
      "cell_type": "code",
      "execution_count": null,
      "metadata": {
        "colab": {
          "base_uri": "https://localhost:8080/"
        },
        "id": "OT_1rQ8GYFyY",
        "outputId": "5bdb5a31-89f3-4204-9196-d3947dbaca4b"
      },
      "outputs": [
        {
          "output_type": "stream",
          "name": "stdout",
          "text": [
            "Enter the amount of salary:50000\n",
            "After deducting all the taxes the income per month is 2391.67 lakhs\n"
          ]
        }
      ],
      "source": [
        "#Write a program that will give you in hand monthly salary after deduction on CTC - HRA(10%), DA(5%), PF(3%) and taxes deduction as below:\n",
        "#Salary(Lakhs) : Tax(%)\n",
        "#Below 5 : 0%\n",
        "#5-10 : 10%\n",
        "#10-20 : 20%\n",
        "#aboove 20 : 30%\n",
        "\n",
        "#taking the ctc amount from the user\n",
        "salary=float(input(\"Enter the amount of salary:\"))\n",
        "\n",
        "#deducting the percentage from the ctc\n",
        "HRA_deduction=(10/100)*salary\n",
        "da_deduction=(5/100)*salary\n",
        "pf_deduction=(3/100)*salary\n",
        "\n",
        "#after deducting\n",
        "taxable_income=(salary-HRA_deduction-da_deduction-pf_deduction)\n",
        "\n",
        "#finding the applicable tax\n",
        "if 0<salary<= 5:\n",
        "  tax_rate=0\n",
        "\n",
        "elif 500000<salary<=10:\n",
        "  tax_rate=10\n",
        "\n",
        "elif 1000000<salary<=20:\n",
        "  tax_rate=20\n",
        "\n",
        "else:\n",
        "  tax_rate=30\n",
        "\n",
        "# Calculating tax\n",
        "tax= (taxable_income * tax_rate) / 100\n",
        "\n",
        "# Calculating final salary after deductions and taxes\n",
        "final_salary= salary-HRA_deduction-da_deduction-pf_deduction - tax\n",
        "\n",
        "# Monthly salary\n",
        "monthly_salary=final_salary/12\n",
        "\n",
        "\n",
        "# Display result\n",
        "print(f\"After deducting all the taxes the income per month is {monthly_salary:.2f} lakhs\")\n"
      ]
    },
    {
      "cell_type": "code",
      "source": [
        "## Write a program that take a user input of three angles and will find out whether it can form a triangle or not.\n",
        "\n",
        "#taking the user input\n",
        "\n",
        "angle_x=float(input(\"Enter the first side:\"))\n",
        "angle_y=float(input(\"Enter the second side:\"))\n",
        "angle_z=float(input(\"Enter the third side:\"))\n",
        "\n",
        "# Check if the angles can form a triangle\n",
        "if angle_x + angle_y + angle_z == 180 and angle_x > 0 and angle_y > 0 and angle_z > 0:\n",
        "    print(\"The angles can form a triangle.\")\n",
        "else:\n",
        "    print(\"The angles cannot form a triangle.\")"
      ],
      "metadata": {
        "colab": {
          "base_uri": "https://localhost:8080/"
        },
        "id": "KBs29deV6qRD",
        "outputId": "0e06f96a-a5cf-41fb-a4f9-ef52c989086c"
      },
      "execution_count": null,
      "outputs": [
        {
          "output_type": "stream",
          "name": "stdout",
          "text": [
            "Enter the first side:60\n",
            "Enter the second side:30\n",
            "Enter the third side:42\n",
            "The angles cannot form a triangle.\n"
          ]
        }
      ]
    },
    {
      "cell_type": "code",
      "source": [
        "# Write a program that will take user input of cost price and selling price and determines whether its a loss or a profit.\n",
        "\n",
        "#taking the user input\n",
        "cp = float(input(\"Enter the cost price:\"))\n",
        "sp = float(input(\"Enter the selling price:\"))\n",
        "\n",
        "#putting the condition of cp and sp\n",
        "\n",
        "if cp>sp:\n",
        "  print(\"it is loss\")\n",
        "elif cp<sp:\n",
        "  print(\"it is profit\")\n",
        "else:\n",
        "  print(\"There is neither a profit nor a loss.\")"
      ],
      "metadata": {
        "colab": {
          "base_uri": "https://localhost:8080/"
        },
        "id": "SgtwaqiOy6NX",
        "outputId": "8abaa087-d9d1-460c-d93c-bfcaa89bcab1"
      },
      "execution_count": 23,
      "outputs": [
        {
          "output_type": "stream",
          "name": "stdout",
          "text": [
            "Enter the cost price:21\n",
            "Enter the selling price:21\n",
            "There is neither a profit nor a loss.\n"
          ]
        }
      ]
    },
    {
      "cell_type": "code",
      "source": [
        "# Write a menu driven program\n",
        "\n",
        "# Display the menu\n",
        "print(\"\\nMenu:\")\n",
        "print(\"1. Convert cm to ft\")\n",
        "print(\"2. Convert km to miles\")\n",
        "print(\"3. Convert USD to INR\")\n",
        "print(\"4. Exit\")\n",
        "\n",
        "# Get user choice\n",
        "choice = input(\"Enter your choice (1-4): \")\n",
        "\n",
        "# Perform operations based on user choice\n",
        "if choice == '1':\n",
        "    # Convert cm to ft\n",
        "    cm_value = float(input(\"Enter length in centimeters: \"))\n",
        "    ft_value = cm_value / 30.48\n",
        "    print(f\"{cm_value} cm is equal to {ft_value:.2f} feet.\")\n",
        "\n",
        "elif choice == '2':\n",
        "    # Convert km to miles\n",
        "    km_value = float(input(\"Enter distance in kilometers: \"))\n",
        "    miles_value = km_value / 1.60934\n",
        "    print(f\"{km_value} km is equal to {miles_value:.2f} miles.\")\n",
        "\n",
        "elif choice == '3':\n",
        "    # Convert USD to INR\n",
        "    usd_value = float(input(\"Enter amount in US dollars: \"))\n",
        "    inr_value = usd_value * 74.39  # Please update this conversion rate as needed\n",
        "    print(f\"{usd_value} USD is equal to {inr_value:.2f} INR.\")\n",
        "\n",
        "elif choice == '4':\n",
        "    # Exit the program\n",
        "    print(\"Exiting the program. Goodbye!\")\n",
        "\n",
        "else:\n",
        "    print(\"Invalid choice. Please enter a number between 1 and 4.\")\n"
      ],
      "metadata": {
        "colab": {
          "base_uri": "https://localhost:8080/"
        },
        "id": "jzbxCGWg-ehE",
        "outputId": "a8cdeb7d-b539-44c1-c190-4ee035e910f3"
      },
      "execution_count": 26,
      "outputs": [
        {
          "output_type": "stream",
          "name": "stdout",
          "text": [
            "\n",
            "Menu:\n",
            "1. Convert cm to ft\n",
            "2. Convert km to miles\n",
            "3. Convert USD to INR\n",
            "4. Exit\n",
            "Enter your choice (1-4): 3\n",
            "Enter amount in US dollars: 5\n",
            "5.0 USD is equal to 371.95 INR.\n"
          ]
        }
      ]
    },
    {
      "cell_type": "code",
      "source": [
        "# Initialize the first two terms of the Fibonacci sequence\n",
        "num1, num2 = 0, 1\n",
        "\n",
        "# Display the first two terms\n",
        "print(num1, end=\", \")\n",
        "print(num2, end=\", \")\n",
        "\n",
        "# Display the next 8 terms using if, else, and elif\n",
        "for _ in range(8):\n",
        "    fib = num1 + num2\n",
        "    print(fib, end=\", \")\n",
        "\n",
        "    # Update num1 and num2 for the next iteration\n",
        "    num1, num2 = num2, fib\n"
      ],
      "metadata": {
        "colab": {
          "base_uri": "https://localhost:8080/"
        },
        "id": "sC9NdB7rE8Hi",
        "outputId": "0597ea43-8b8e-46ed-b51d-9033f68105c6"
      },
      "execution_count": 37,
      "outputs": [
        {
          "output_type": "stream",
          "name": "stdout",
          "text": [
            "0, 1, 1, 2, 3, 5, 8, 13, 21, 34, "
          ]
        }
      ]
    },
    {
      "cell_type": "code",
      "source": [
        "# Find the factorial of a given number.\n",
        "\n",
        "# taking the input\n",
        "\n",
        "n = int(input(\"Enter the number for which you want the factorial:\"))\n",
        "\n",
        "factorial = 1\n",
        "\n",
        "if n==0:\n",
        "  print(\"the factorial of o is 1\")\n",
        "elif n<0:\n",
        "  print(\"factorial of negative number is not defined\")\n",
        "else:\n",
        "  for i in range (1,n+1):\n",
        "    factorial = factorial * i\n",
        "  print(f\"The factorial of {n} is {factorial}.\")"
      ],
      "metadata": {
        "colab": {
          "base_uri": "https://localhost:8080/"
        },
        "id": "dokn06yRGnHQ",
        "outputId": "9e98a193-51e0-4454-af37-b68717bbfe5c"
      },
      "execution_count": 46,
      "outputs": [
        {
          "output_type": "stream",
          "name": "stdout",
          "text": [
            "Enter the number for which you want the factorial:5\n",
            "The factorial of 5 is 120.\n"
          ]
        }
      ]
    }
  ]
}